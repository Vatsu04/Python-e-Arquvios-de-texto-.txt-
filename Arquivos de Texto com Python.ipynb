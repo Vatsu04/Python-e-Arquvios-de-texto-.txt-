{
 "cells": [
  {
   "cell_type": "markdown",
   "id": "441899aa",
   "metadata": {},
   "source": [
    "# Python e Arquivos de texto (.txt)\n",
    "\n",
    "- Use sempre a estrutura With"
   ]
  },
  {
   "cell_type": "markdown",
   "id": "2d20f181",
   "metadata": {},
   "source": [
    "### Formas de abrir um arquivo de texto"
   ]
  },
  {
   "cell_type": "markdown",
   "id": "b1f4e1e6",
   "metadata": {},
   "source": [
    "- \"r\" -> read -> ler"
   ]
  },
  {
   "cell_type": "code",
   "execution_count": 15,
   "id": "53008492",
   "metadata": {},
   "outputs": [
    {
     "name": "stdout",
     "output_type": "stream",
     "text": [
      "\n",
      "Prezados,\n",
      "\n",
      "O faturamento desse mês foi de: R$15.000\n",
      "\n",
      "Qualquer dúvida que tiverem, é só falar.\n",
      "\n",
      "Att.,\n",
      "Lira\n",
      "O faturamento desse mês foi de: R$15.000\n",
      "\n"
     ]
    }
   ],
   "source": [
    "#read -> para arquivos simples (ex: senhas, tokens, informações únicas)\n",
    "with open(\"email.txt\", \"r\") as arquivo: # w = write, a = append\n",
    "    email = arquivo.read()\n",
    "print(email)\n",
    "\n",
    "with open(\"mensagem.txt\", \"r\", encoding=\"utf-8\") as arquivo:\n",
    "    senha = arquivo.read()\n",
    "print(senha)\n",
    "#arquivo.open()\n",
    "\n",
    "\n",
    "\n",
    "#codigo\n",
    "#codigo com erro\n",
    "\n",
    "#arquivo.close()\n",
    "\n",
    "for linha in mensagem:\n",
    "    if \"faturamento\" in linha:\n",
    "        print(linha)"
   ]
  },
  {
   "cell_type": "markdown",
   "id": "53f75e99",
   "metadata": {},
   "source": [
    "- \"w\" -> write -> escrever"
   ]
  },
  {
   "cell_type": "code",
   "execution_count": null,
   "id": "0bf26c38",
   "metadata": {},
   "outputs": [],
   "source": [
    "#substui por completo o texto que está escrito\n",
    "with open(\"senha.txt\", \"w\") as arquivo:\n",
    "    arquivo.write(\"456789\")"
   ]
  },
  {
   "cell_type": "markdown",
   "id": "14fcf35d",
   "metadata": {},
   "source": [
    "- \"a\" -> append -> adicionar"
   ]
  },
  {
   "cell_type": "code",
   "execution_count": null,
   "id": "1e6d2b3f",
   "metadata": {},
   "outputs": [],
   "source": [
    "with open(\"email.txt\", \"a\") as arquivo:\n",
    "    arquivo.write(\"pythonimpressionador2@gmail.com\")"
   ]
  }
 ],
 "metadata": {
  "kernelspec": {
   "display_name": "env",
   "language": "python",
   "name": "python3"
  },
  "language_info": {
   "codemirror_mode": {
    "name": "ipython",
    "version": 3
   },
   "file_extension": ".py",
   "mimetype": "text/x-python",
   "name": "python",
   "nbconvert_exporter": "python",
   "pygments_lexer": "ipython3",
   "version": "3.9.2 (tags/v3.9.2:1a79785, Feb 19 2021, 13:44:55) [MSC v.1928 64 bit (AMD64)]"
  },
  "vscode": {
   "interpreter": {
    "hash": "c41ddf27513a544bc8ccd2f60c812330ca3a4ac82d4ba6b27b4bd7df7f685279"
   }
  }
 },
 "nbformat": 4,
 "nbformat_minor": 5
}
